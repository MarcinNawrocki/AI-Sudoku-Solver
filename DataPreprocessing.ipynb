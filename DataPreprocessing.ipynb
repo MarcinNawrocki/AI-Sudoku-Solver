{
 "cells": [
  {
   "cell_type": "code",
   "execution_count": 1,
   "metadata": {},
   "outputs": [],
   "source": [
    "import numpy as np\n",
    "import pandas as pd\n",
    "import matplotlib.pyplot as plt\n",
    "import tensorflow as tf\n",
    "import seaborn as sns"
   ]
  },
  {
   "cell_type": "markdown",
   "metadata": {},
   "source": [
    "# Data loading"
   ]
  },
  {
   "cell_type": "code",
   "execution_count": 2,
   "metadata": {},
   "outputs": [],
   "source": [
    "df = pd.read_csv(\"sudoku.csv\")"
   ]
  },
  {
   "cell_type": "code",
   "execution_count": 3,
   "metadata": {},
   "outputs": [
    {
     "data": {
      "text/html": [
       "<div>\n",
       "<style scoped>\n",
       "    .dataframe tbody tr th:only-of-type {\n",
       "        vertical-align: middle;\n",
       "    }\n",
       "\n",
       "    .dataframe tbody tr th {\n",
       "        vertical-align: top;\n",
       "    }\n",
       "\n",
       "    .dataframe thead th {\n",
       "        text-align: right;\n",
       "    }\n",
       "</style>\n",
       "<table border=\"1\" class=\"dataframe\">\n",
       "  <thead>\n",
       "    <tr style=\"text-align: right;\">\n",
       "      <th></th>\n",
       "      <th>quizzes</th>\n",
       "      <th>solutions</th>\n",
       "    </tr>\n",
       "  </thead>\n",
       "  <tbody>\n",
       "    <tr>\n",
       "      <th>0</th>\n",
       "      <td>0043002090050090010700600430060020871900074000...</td>\n",
       "      <td>8643712593258497619712658434361925871986574322...</td>\n",
       "    </tr>\n",
       "    <tr>\n",
       "      <th>1</th>\n",
       "      <td>0401000501070039605200080000000000170009068008...</td>\n",
       "      <td>3461792581875239645296483719658324174729168358...</td>\n",
       "    </tr>\n",
       "    <tr>\n",
       "      <th>2</th>\n",
       "      <td>6001203840084590720000060050002640300700800069...</td>\n",
       "      <td>6951273841384596727248369158512647392739815469...</td>\n",
       "    </tr>\n",
       "    <tr>\n",
       "      <th>3</th>\n",
       "      <td>4972000001004000050000160986203000403009000000...</td>\n",
       "      <td>4972583161864397252537164986293815473759641828...</td>\n",
       "    </tr>\n",
       "    <tr>\n",
       "      <th>4</th>\n",
       "      <td>0059103080094030600275001000300002010008200070...</td>\n",
       "      <td>4659123781894735623275681497386452919548216372...</td>\n",
       "    </tr>\n",
       "  </tbody>\n",
       "</table>\n",
       "</div>"
      ],
      "text/plain": [
       "                                             quizzes  \\\n",
       "0  0043002090050090010700600430060020871900074000...   \n",
       "1  0401000501070039605200080000000000170009068008...   \n",
       "2  6001203840084590720000060050002640300700800069...   \n",
       "3  4972000001004000050000160986203000403009000000...   \n",
       "4  0059103080094030600275001000300002010008200070...   \n",
       "\n",
       "                                           solutions  \n",
       "0  8643712593258497619712658434361925871986574322...  \n",
       "1  3461792581875239645296483719658324174729168358...  \n",
       "2  6951273841384596727248369158512647392739815469...  \n",
       "3  4972583161864397252537164986293815473759641828...  \n",
       "4  4659123781894735623275681497386452919548216372...  "
      ]
     },
     "execution_count": 3,
     "metadata": {},
     "output_type": "execute_result"
    }
   ],
   "source": [
    "df.head()"
   ]
  },
  {
   "cell_type": "markdown",
   "metadata": {},
   "source": [
    "# Data processing"
   ]
  },
  {
   "cell_type": "code",
   "execution_count": 4,
   "metadata": {},
   "outputs": [],
   "source": [
    "number_of_samples = 30000\n",
    "unsolved = df['quizzes'].iloc[:number_of_samples].values\n",
    "solved = df['solutions'].iloc[:number_of_samples].values"
   ]
  },
  {
   "cell_type": "code",
   "execution_count": 5,
   "metadata": {},
   "outputs": [],
   "source": [
    "X = []\n",
    "y = []"
   ]
  },
  {
   "cell_type": "code",
   "execution_count": 6,
   "metadata": {},
   "outputs": [],
   "source": [
    "for sudoku in unsolved:\n",
    "    np_solved = np.array([int(x) for x in sudoku]).reshape(9,9,1)\n",
    "    X.append(np_solved)\n",
    "    \n",
    "for sudoku in solved:\n",
    "    np_unsolved = np.array([int(y) for y in sudoku]).reshape(9,9,1)\n",
    "    y.append(np_unsolved)"
   ]
  },
  {
   "cell_type": "code",
   "execution_count": 7,
   "metadata": {},
   "outputs": [],
   "source": [
    "np_X = np.array(X)\n",
    "np_y = np.array(y)"
   ]
  },
  {
   "cell_type": "code",
   "execution_count": 8,
   "metadata": {},
   "outputs": [
    {
     "data": {
      "text/plain": [
       "numpy.ndarray"
      ]
     },
     "execution_count": 8,
     "metadata": {},
     "output_type": "execute_result"
    }
   ],
   "source": [
    "type(np_X)"
   ]
  },
  {
   "cell_type": "markdown",
   "metadata": {},
   "source": [
    "## Train test split"
   ]
  },
  {
   "cell_type": "code",
   "execution_count": 9,
   "metadata": {},
   "outputs": [],
   "source": [
    "from sklearn.model_selection import train_test_split\n",
    "from tensorflow.keras.utils import to_categorical"
   ]
  },
  {
   "cell_type": "code",
   "execution_count": 10,
   "metadata": {},
   "outputs": [],
   "source": [
    "#default test size = 75%\n",
    "X_train, X_test, y_train, y_test = train_test_split(np_X, np_y)"
   ]
  },
  {
   "cell_type": "code",
   "execution_count": 11,
   "metadata": {},
   "outputs": [],
   "source": [
    "#one hot encoding\n",
    "X_train = to_categorical(X_train).astype('float32')\n",
    "X_test = to_categorical(X_test).astype('float32')\n",
    "#-1 because we don't want to predict zeros\n",
    "y_train = to_categorical(y_train-1).astype('float32')\n",
    "y_test = to_categorical(y_test-1).astype('float32')"
   ]
  },
  {
   "cell_type": "code",
   "execution_count": 12,
   "metadata": {},
   "outputs": [
    {
     "data": {
      "text/plain": [
       "(22500, 9, 9, 10)"
      ]
     },
     "execution_count": 12,
     "metadata": {},
     "output_type": "execute_result"
    }
   ],
   "source": [
    "X_train.shape"
   ]
  },
  {
   "cell_type": "markdown",
   "metadata": {},
   "source": [
    "# Training"
   ]
  },
  {
   "cell_type": "code",
   "execution_count": 13,
   "metadata": {},
   "outputs": [],
   "source": [
    "from tensorflow.keras.models import Sequential, Model\n",
    "from tensorflow.keras.layers import Dense, Conv2D, Flatten, Reshape, BatchNormalization, Activation, Input,Dropout"
   ]
  },
  {
   "cell_type": "code",
   "execution_count": 14,
   "metadata": {},
   "outputs": [],
   "source": [
    "#rows,cols, possible numbers in cell (0-9)\n",
    "input_shape = (9,9,10)\n",
    "batch_size = 1000"
   ]
  },
  {
   "cell_type": "code",
   "execution_count": 15,
   "metadata": {},
   "outputs": [],
   "source": [
    "model = Sequential()\n",
    "\n",
    "model.add(Dense(64, activation='relu', input_shape=input_shape))\n",
    "model.add(Dropout(0.4))\n",
    "model.add(Dense(64, activation='relu'))\n",
    "model.add(Dropout(0.4))\n",
    "model.add(Flatten())\n",
    "\n",
    "grid = Input(shape=input_shape)\n",
    "features = model(grid)\n",
    "\n",
    "top_model = [\n",
    "    Dense(9, activation='softmax')(features)\n",
    "    for i in range(81)\n",
    "]\n",
    "sudoku_solver = Model(grid, top_model)\n",
    "sudoku_solver.compile (optimizer='adam', loss='categorical_crossentropy', metrics=['accuracy'])"
   ]
  },
  {
   "cell_type": "code",
   "execution_count": 16,
   "metadata": {},
   "outputs": [
    {
     "data": {
      "text/plain": [
       "TensorShape([None, 5184])"
      ]
     },
     "execution_count": 16,
     "metadata": {},
     "output_type": "execute_result"
    }
   ],
   "source": [
    "features.shape"
   ]
  },
  {
   "cell_type": "code",
   "execution_count": 17,
   "metadata": {},
   "outputs": [
    {
     "name": "stdout",
     "output_type": "stream",
     "text": [
      "Model: \"sequential\"\n",
      "_________________________________________________________________\n",
      "Layer (type)                 Output Shape              Param #   \n",
      "=================================================================\n",
      "dense (Dense)                (None, 9, 9, 64)          704       \n",
      "_________________________________________________________________\n",
      "dropout (Dropout)            (None, 9, 9, 64)          0         \n",
      "_________________________________________________________________\n",
      "dense_1 (Dense)              (None, 9, 9, 64)          4160      \n",
      "_________________________________________________________________\n",
      "dropout_1 (Dropout)          (None, 9, 9, 64)          0         \n",
      "_________________________________________________________________\n",
      "flatten (Flatten)            (None, 5184)              0         \n",
      "=================================================================\n",
      "Total params: 4,864\n",
      "Trainable params: 4,864\n",
      "Non-trainable params: 0\n",
      "_________________________________________________________________\n"
     ]
    }
   ],
   "source": [
    "model.summary()"
   ]
  },
  {
   "cell_type": "code",
   "execution_count": 18,
   "metadata": {},
   "outputs": [],
   "source": [
    "#from tensorflow.keras.callbacks import EarlyStopping"
   ]
  },
  {
   "cell_type": "code",
   "execution_count": 19,
   "metadata": {},
   "outputs": [],
   "source": [
    "#early_stop = EarlyStopping(monitor='val_loss',patience=2, restore_best_weights=True)"
   ]
  },
  {
   "cell_type": "code",
   "execution_count": 20,
   "metadata": {},
   "outputs": [
    {
     "name": "stdout",
     "output_type": "stream",
     "text": [
      "Num GPUs Available:  1\n"
     ]
    }
   ],
   "source": [
    "print(\"Num GPUs Available: \", len(tf.config.experimental.list_physical_devices('GPU')))"
   ]
  },
  {
   "cell_type": "code",
   "execution_count": 43,
   "metadata": {
    "scrolled": false
   },
   "outputs": [
    {
     "name": "stdout",
     "output_type": "stream",
     "text": [
      "Train on 22500 samples\n",
      "Epoch 1/2\n",
      "22500/22500 [==============================] - 34s 2ms/sample - loss: 177.4698 - dense_85_loss: 2.1900 - dense_86_loss: 2.1916 - dense_87_loss: 2.1893 - dense_88_loss: 2.1892 - dense_89_loss: 2.1926 - dense_90_loss: 2.1938 - dense_91_loss: 2.1929 - dense_92_loss: 2.1917 - dense_93_loss: 2.1916 - dense_94_loss: 2.1904 - dense_95_loss: 2.1903 - dense_96_loss: 2.1878 - dense_97_loss: 2.1916 - dense_98_loss: 2.1906 - dense_99_loss: 2.1891 - dense_100_loss: 2.1883 - dense_101_loss: 2.1884 - dense_102_loss: 2.1867 - dense_103_loss: 2.1915 - dense_104_loss: 2.1903 - dense_105_loss: 2.1912 - dense_106_loss: 2.1897 - dense_107_loss: 2.1905 - dense_108_loss: 2.1903 - dense_109_loss: 2.1919 - dense_110_loss: 2.1912 - dense_111_loss: 2.1917 - dense_112_loss: 2.1912 - dense_113_loss: 2.1900 - dense_114_loss: 2.1911 - dense_115_loss: 2.1884 - dense_116_loss: 2.1906 - dense_117_loss: 2.1907 - dense_118_loss: 2.1897 - dense_119_loss: 2.1912 - dense_120_loss: 2.1876 - dense_121_loss: 2.1910 - dense_122_loss: 2.1945 - dense_123_loss: 2.1917 - dense_124_loss: 2.1897 - dense_125_loss: 2.1891 - dense_126_loss: 2.1909 - dense_127_loss: 2.1931 - dense_128_loss: 2.1903 - dense_129_loss: 2.1899 - dense_130_loss: 2.1914 - dense_131_loss: 2.1932 - dense_132_loss: 2.1919 - dense_133_loss: 2.1902 - dense_134_loss: 2.1907 - dense_135_loss: 2.1879 - dense_136_loss: 2.1881 - dense_137_loss: 2.1920 - dense_138_loss: 2.1896 - dense_139_loss: 2.1926 - dense_140_loss: 2.1907 - dense_141_loss: 2.1888 - dense_142_loss: 2.1883 - dense_143_loss: 2.1920 - dense_144_loss: 2.1897 - dense_145_loss: 2.1920 - dense_146_loss: 2.1936 - dense_147_loss: 2.1878 - dense_148_loss: 2.1896 - dense_149_loss: 2.1926 - dense_150_loss: 2.1881 - dense_151_loss: 2.1889 - dense_152_loss: 2.1917 - dense_153_loss: 2.1909 - dense_154_loss: 2.1908 - dense_155_loss: 2.1895 - dense_156_loss: 2.1885 - dense_157_loss: 2.1907 - dense_158_loss: 2.1885 - dense_159_loss: 2.1912 - dense_160_loss: 2.1877 - dense_161_loss: 2.1906 - dense_162_loss: 2.1893 - dense_163_loss: 2.1888 - dense_164_loss: 2.1900 - dense_165_loss: 2.1917 - dense_85_accuracy: 0.1356 - dense_86_accuracy: 0.1363 - dense_87_accuracy: 0.1389 - dense_88_accuracy: 0.1410 - dense_89_accuracy: 0.1316 - dense_90_accuracy: 0.1286 - dense_91_accuracy: 0.1356 - dense_92_accuracy: 0.1319 - dense_93_accuracy: 0.1375 - dense_94_accuracy: 0.1399 - dense_95_accuracy: 0.1344 - dense_96_accuracy: 0.1396 - dense_97_accuracy: 0.1359 - dense_98_accuracy: 0.1426 - dense_99_accuracy: 0.1387 - dense_100_accuracy: 0.1381 - dense_101_accuracy: 0.1365 - dense_102_accuracy: 0.1432 - dense_103_accuracy: 0.1360 - dense_104_accuracy: 0.1371 - dense_105_accuracy: 0.1352 - dense_106_accuracy: 0.1340 - dense_107_accuracy: 0.1361 - dense_108_accuracy: 0.1390 - dense_109_accuracy: 0.1360 - dense_110_accuracy: 0.1355 - dense_111_accuracy: 0.1374 - dense_112_accuracy: 0.1376 - dense_113_accuracy: 0.1417 - dense_114_accuracy: 0.1401 - dense_115_accuracy: 0.1438 - dense_116_accuracy: 0.1348 - dense_117_accuracy: 0.1380 - dense_118_accuracy: 0.1392 - dense_119_accuracy: 0.1314 - dense_120_accuracy: 0.1404 - dense_121_accuracy: 0.1323 - dense_122_accuracy: 0.1336 - dense_123_accuracy: 0.1332 - dense_124_accuracy: 0.1356 - dense_125_accuracy: 0.1350 - dense_126_accuracy: 0.1352 - dense_127_accuracy: 0.1366 - dense_128_accuracy: 0.1379 - dense_129_accuracy: 0.1365 - dense_130_accuracy: 0.1376 - dense_131_accuracy: 0.1355 - dense_132_accuracy: 0.1387 - dense_133_accuracy: 0.1376 - dense_134_accuracy: 0.1361 - dense_135_accuracy: 0.1396 - dense_136_accuracy: 0.1430 - dense_137_accuracy: 0.1344 - dense_138_accuracy: 0.1364 - dense_139_accuracy: 0.1308 - dense_140_accuracy: 0.1322 - dense_141_accuracy: 0.1430 - dense_142_accuracy: 0.1430 - dense_143_accuracy: 0.1340 - dense_144_accuracy: 0.1383 - dense_145_accuracy: 0.1344 - dense_146_accuracy: 0.1372 - dense_147_accuracy: 0.1456 - dense_148_accuracy: 0.1390 - dense_149_accuracy: 0.1345 - dense_150_accuracy: 0.1416 - dense_151_accuracy: 0.1378 - dense_152_accuracy: 0.1337 - dense_153_accuracy: 0.1364 - dense_154_accuracy: 0.1389 - dense_155_accuracy: 0.1375 - dense_156_accuracy: 0.1403 - dense_157_accuracy: 0.1376 - dense_158_accuracy: 0.1363 - dense_159_accuracy: 0.1372 - dense_160_accuracy: 0.1421 - dense_161_accuracy: 0.1363 - dense_162_accuracy: 0.1354 - dense_163_accuracy: 0.1400 - dense_164_accuracy: 0.1368 - dense_165_accuracy: 0.1334\n",
      "Epoch 2/2\n",
      " 2000/22500 [=>............................] - ETA: 4s - loss: 174.5622 - dense_85_loss: 2.1614 - dense_86_loss: 2.1534 - dense_87_loss: 2.1571 - dense_88_loss: 2.1529 - dense_89_loss: 2.1522 - dense_90_loss: 2.1554 - dense_91_loss: 2.1569 - dense_92_loss: 2.1511 - dense_93_loss: 2.1555 - dense_94_loss: 2.1539 - dense_95_loss: 2.1525 - dense_96_loss: 2.1474 - dense_97_loss: 2.1545 - dense_98_loss: 2.1532 - dense_99_loss: 2.1519 - dense_100_loss: 2.1562 - dense_101_loss: 2.1551 - dense_102_loss: 2.1495 - dense_103_loss: 2.1558 - dense_104_loss: 2.1578 - dense_105_loss: 2.1534 - dense_106_loss: 2.1550 - dense_107_loss: 2.1566 - dense_108_loss: 2.1565 - dense_109_loss: 2.1570 - dense_110_loss: 2.1592 - dense_111_loss: 2.1554 - dense_112_loss: 2.1514 - dense_113_loss: 2.1542 - dense_114_loss: 2.1570 - dense_115_loss: 2.1474 - dense_116_loss: 2.1533 - dense_117_loss: 2.1515 - dense_118_loss: 2.1540 - dense_119_loss: 2.1580 - dense_120_loss: 2.1542 - dense_121_loss: 2.1587 - dense_122_loss: 2.1593 - dense_123_loss: 2.1505 - dense_124_loss: 2.1545 - dense_125_loss: 2.1568 - dense_126_loss: 2.1537 - dense_127_loss: 2.1588 - dense_128_loss: 2.1601 - dense_129_loss: 2.1497 - dense_130_loss: 2.1557 - dense_131_loss: 2.1560 - dense_132_loss: 2.1569 - dense_133_loss: 2.1565 - dense_134_loss: 2.1536 - dense_135_loss: 2.1541 - dense_136_loss: 2.1588 - dense_137_loss: 2.1563 - dense_138_loss: 2.1552 - dense_139_loss: 2.1604 - dense_140_loss: 2.1537 - dense_141_loss: 2.1537 - dense_142_loss: 2.1533 - dense_143_loss: 2.1598 - dense_144_loss: 2.1541 - dense_145_loss: 2.1554 - dense_146_loss: 2.1539 - dense_147_loss: 2.1534 - dense_148_loss: 2.1545 - dense_149_loss: 2.1547 - dense_150_loss: 2.1553 - dense_151_loss: 2.1531 - dense_152_loss: 2.1590 - dense_153_loss: 2.1580 - dense_154_loss: 2.1542 - dense_155_loss: 2.1562 - dense_156_loss: 2.1553 - dense_157_loss: 2.1557 - dense_158_loss: 2.1554 - dense_159_loss: 2.1556 - dense_160_loss: 2.1572 - dense_161_loss: 2.1573 - dense_162_loss: 2.1521 - dense_163_loss: 2.1556 - dense_164_loss: 2.1570 - dense_165_loss: 2.1552 - dense_85_accuracy: 0.1875 - dense_86_accuracy: 0.2005 - dense_87_accuracy: 0.2085 - dense_88_accuracy: 0.2030 - dense_89_accuracy: 0.2065 - dense_90_accuracy: 0.1930 - dense_91_accuracy: 0.2025 - dense_92_accuracy: 0.2200 - dense_93_accuracy: 0.2175 - dense_94_accuracy: 0.2025 - dense_95_accuracy: 0.2165 - dense_96_accuracy: 0.2125 - dense_97_accuracy: 0.2075 - dense_98_accuracy: 0.2005 - dense_99_accuracy: 0.2190 - dense_100_accuracy: 0.2040 - dense_101_accuracy: 0.2005 - dense_102_accuracy: 0.2160 - dense_103_accuracy: 0.1975 - dense_104_accuracy: 0.2065 - dense_105_accuracy: 0.2000 - dense_106_accuracy: 0.2185 - dense_107_accuracy: 0.1880 - dense_108_accuracy: 0.1950 - dense_109_accuracy: 0.1950 - dense_110_accuracy: 0.2135 - dense_111_accuracy: 0.2005 - dense_112_accuracy: 0.2080 - dense_113_accuracy: 0.2190 - dense_114_accuracy: 0.1955 - dense_115_accuracy: 0.2350 - dense_116_accuracy: 0.1980 - dense_117_accuracy: 0.2015 - dense_118_accuracy: 0.2030 - dense_119_accuracy: 0.1910 - dense_120_accuracy: 0.2005 - dense_121_accuracy: 0.1880 - dense_122_accuracy: 0.1910 - dense_123_accuracy: 0.2165 - dense_124_accuracy: 0.2000 - dense_125_accuracy: 0.2060 - dense_126_accuracy: 0.2075 - dense_127_accuracy: 0.2160 - dense_128_accuracy: 0.1730 - dense_129_accuracy: 0.2235 - dense_130_accuracy: 0.1840 - dense_131_accuracy: 0.1925 - dense_132_accuracy: 0.1870 - dense_133_accuracy: 0.2025 - dense_134_accuracy: 0.2005 - dense_135_accuracy: 0.2135 - dense_136_accuracy: 0.2100 - dense_137_accuracy: 0.1990 - dense_138_accuracy: 0.2075 - dense_139_accuracy: 0.1980 - dense_140_accuracy: 0.2055 - dense_141_accuracy: 0.2065 - dense_142_accuracy: 0.2095 - dense_143_accuracy: 0.1760 - dense_144_accuracy: 0.2040 - dense_145_accuracy: 0.1870 - dense_146_accuracy: 0.2075 - dense_147_accuracy: 0.2050 - dense_148_accuracy: 0.2010 - dense_149_accuracy: 0.1785 - dense_150_accuracy: 0.2010 - dense_151_accuracy: 0.1880 - dense_152_accuracy: 0.1930 - dense_153_accuracy: 0.2150 - dense_154_accuracy: 0.1990 - dense_155_accuracy: 0.2085 - dense_156_accuracy: 0.2065 - dense_157_accuracy: 0.2075 - dense_158_accuracy: 0.2000 - dense_159_accuracy: 0.2055 - dense_160_accuracy: 0.1925 - dense_161_accuracy: 0.1910 - dense_162_accuracy: 0.2055 - dense_163_accuracy: 0.1950 - dense_164_accuracy: 0.2045 - dense_165_accuracy: 0.210522500/22500 [==============================] - 4s 184us/sample - loss: 169.4745 - dense_85_loss: 2.0880 - dense_86_loss: 2.0917 - dense_87_loss: 2.0897 - dense_88_loss: 2.0858 - dense_89_loss: 2.0886 - dense_90_loss: 2.0938 - dense_91_loss: 2.0925 - dense_92_loss: 2.0887 - dense_93_loss: 2.0909 - dense_94_loss: 2.0907 - dense_95_loss: 2.0908 - dense_96_loss: 2.0834 - dense_97_loss: 2.0925 - dense_98_loss: 2.0880 - dense_99_loss: 2.0904 - dense_100_loss: 2.0889 - dense_101_loss: 2.0857 - dense_102_loss: 2.0840 - dense_103_loss: 2.0890 - dense_104_loss: 2.0895 - dense_105_loss: 2.0901 - dense_106_loss: 2.0858 - dense_107_loss: 2.0902 - dense_108_loss: 2.0867 - dense_109_loss: 2.0918 - dense_110_loss: 2.0905 - dense_111_loss: 2.0923 - dense_112_loss: 2.0930 - dense_113_loss: 2.0889 - dense_114_loss: 2.0922 - dense_115_loss: 2.0857 - dense_116_loss: 2.0917 - dense_117_loss: 2.0895 - dense_118_loss: 2.0883 - dense_119_loss: 2.0926 - dense_120_loss: 2.0847 - dense_121_loss: 2.0919 - dense_122_loss: 2.0964 - dense_123_loss: 2.0907 - dense_124_loss: 2.0909 - dense_125_loss: 2.0885 - dense_126_loss: 2.0893 - dense_127_loss: 2.0944 - dense_128_loss: 2.0866 - dense_129_loss: 2.0870 - dense_130_loss: 2.0907 - dense_131_loss: 2.0919 - dense_132_loss: 2.0928 - dense_133_loss: 2.0896 - dense_134_loss: 2.0930 - dense_135_loss: 2.0875 - dense_136_loss: 2.0888 - dense_137_loss: 2.0906 - dense_138_loss: 2.0909 - dense_139_loss: 2.0966 - dense_140_loss: 2.0933 - dense_141_loss: 2.0899 - dense_142_loss: 2.0853 - dense_143_loss: 2.0950 - dense_144_loss: 2.0887 - dense_145_loss: 2.0935 - dense_146_loss: 2.0915 - dense_147_loss: 2.0831 - dense_148_loss: 2.0883 - dense_149_loss: 2.0926 - dense_150_loss: 2.0892 - dense_151_loss: 2.0890 - dense_152_loss: 2.0932 - dense_153_loss: 2.0942 - dense_154_loss: 2.0912 - dense_155_loss: 2.0921 - dense_156_loss: 2.0908 - dense_157_loss: 2.0916 - dense_158_loss: 2.0886 - dense_159_loss: 2.0915 - dense_160_loss: 2.0880 - dense_161_loss: 2.0890 - dense_162_loss: 2.0887 - dense_163_loss: 2.0912 - dense_164_loss: 2.0904 - dense_165_loss: 2.0939 - dense_85_accuracy: 0.2776 - dense_86_accuracy: 0.2779 - dense_87_accuracy: 0.2743 - dense_88_accuracy: 0.2769 - dense_89_accuracy: 0.2739 - dense_90_accuracy: 0.2685 - dense_91_accuracy: 0.2678 - dense_92_accuracy: 0.2788 - dense_93_accuracy: 0.2755 - dense_94_accuracy: 0.2747 - dense_95_accuracy: 0.2743 - dense_96_accuracy: 0.2824 - dense_97_accuracy: 0.2694 - dense_98_accuracy: 0.2819 - dense_99_accuracy: 0.2752 - dense_100_accuracy: 0.2690 - dense_101_accuracy: 0.2824 - dense_102_accuracy: 0.2808 - dense_103_accuracy: 0.2680 - dense_104_accuracy: 0.2840 - dense_105_accuracy: 0.2735 - dense_106_accuracy: 0.2833 - dense_107_accuracy: 0.2644 - dense_108_accuracy: 0.2767 - dense_109_accuracy: 0.2757 - dense_110_accuracy: 0.2792 - dense_111_accuracy: 0.2734 - dense_112_accuracy: 0.2674 - dense_113_accuracy: 0.2772 - dense_114_accuracy: 0.2727 - dense_115_accuracy: 0.2877 - dense_116_accuracy: 0.2699 - dense_117_accuracy: 0.2698 - dense_118_accuracy: 0.2693 - dense_119_accuracy: 0.2715 - dense_120_accuracy: 0.2874 - dense_121_accuracy: 0.2702 - dense_122_accuracy: 0.2645 - dense_123_accuracy: 0.2724 - dense_124_accuracy: 0.2728 - dense_125_accuracy: 0.2768 - dense_126_accuracy: 0.2748 - dense_127_accuracy: 0.2651 - dense_128_accuracy: 0.2792 - dense_129_accuracy: 0.2859 - dense_130_accuracy: 0.2676 - dense_131_accuracy: 0.2681 - dense_132_accuracy: 0.2637 - dense_133_accuracy: 0.2720 - dense_134_accuracy: 0.2745 - dense_135_accuracy: 0.2795 - dense_136_accuracy: 0.2782 - dense_137_accuracy: 0.2760 - dense_138_accuracy: 0.2713 - dense_139_accuracy: 0.2621 - dense_140_accuracy: 0.2669 - dense_141_accuracy: 0.2715 - dense_142_accuracy: 0.2844 - dense_143_accuracy: 0.2675 - dense_144_accuracy: 0.2756 - dense_145_accuracy: 0.2669 - dense_146_accuracy: 0.2736 - dense_147_accuracy: 0.2838 - dense_148_accuracy: 0.2732 - dense_149_accuracy: 0.2710 - dense_150_accuracy: 0.2769 - dense_151_accuracy: 0.2836 - dense_152_accuracy: 0.2723 - dense_153_accuracy: 0.2699 - dense_154_accuracy: 0.2749 - dense_155_accuracy: 0.2716 - dense_156_accuracy: 0.2752 - dense_157_accuracy: 0.2740 - dense_158_accuracy: 0.2706 - dense_159_accuracy: 0.2724 - dense_160_accuracy: 0.2697 - dense_161_accuracy: 0.2755 - dense_162_accuracy: 0.2747 - dense_163_accuracy: 0.2683 - dense_164_accuracy: 0.2735 - dense_165_accuracy: 0.2682\n"
     ]
    }
   ],
   "source": [
    "with tf.device('/GPU:0'):\n",
    "    sudoku_solver.fit(X_train, [y_train[:, i, j, :] for i in range(9) for j in range(9)], epochs=2, batch_size=1000 )"
   ]
  },
  {
   "cell_type": "code",
   "execution_count": 21,
   "metadata": {},
   "outputs": [],
   "source": [
    "from tensorflow.keras.models import load_model"
   ]
  },
  {
   "cell_type": "code",
   "execution_count": 22,
   "metadata": {},
   "outputs": [],
   "source": [
    "model = load_model(\"model1.h5\")"
   ]
  },
  {
   "cell_type": "code",
   "execution_count": 60,
   "metadata": {},
   "outputs": [],
   "source": [
    "pred = model.predict(X_test[:1])"
   ]
  },
  {
   "cell_type": "code",
   "execution_count": 23,
   "metadata": {},
   "outputs": [
    {
     "ename": "NameError",
     "evalue": "name 'pred' is not defined",
     "output_type": "error",
     "traceback": [
      "\u001b[1;31m---------------------------------------------------------------------------\u001b[0m",
      "\u001b[1;31mNameError\u001b[0m                                 Traceback (most recent call last)",
      "\u001b[1;32m<ipython-input-23-c6fc79dbd350>\u001b[0m in \u001b[0;36m<module>\u001b[1;34m\u001b[0m\n\u001b[1;32m----> 1\u001b[1;33m \u001b[0mpred\u001b[0m\u001b[1;33m\u001b[0m\u001b[1;33m\u001b[0m\u001b[0m\n\u001b[0m",
      "\u001b[1;31mNameError\u001b[0m: name 'pred' is not defined"
     ]
    }
   ],
   "source": [
    "pred"
   ]
  },
  {
   "cell_type": "code",
   "execution_count": 30,
   "metadata": {},
   "outputs": [
    {
     "data": {
      "text/plain": [
       "(2, 9, 9, 1)"
      ]
     },
     "execution_count": 30,
     "metadata": {},
     "output_type": "execute_result"
    }
   ],
   "source": [
    "np_boards.shape"
   ]
  },
  {
   "cell_type": "code",
   "execution_count": 31,
   "metadata": {},
   "outputs": [
    {
     "name": "stdout",
     "output_type": "stream",
     "text": [
      "(162,)\n"
     ]
    }
   ],
   "source": [
    "np_boards = np_X[:2].copy()\n",
    "with np.nditer(np_boards, op_flags=['readwrite'])\n",
    "for np_board in np.nditer(np_boards,flags=['external_loop']):\n",
    "    print(np_board.shape)"
   ]
  },
  {
   "cell_type": "code",
   "execution_count": 83,
   "metadata": {},
   "outputs": [
    {
     "name": "stdout",
     "output_type": "stream",
     "text": [
      "46\n",
      "45\n",
      "44\n",
      "43\n",
      "42\n",
      "41\n",
      "40\n",
      "39\n",
      "38\n",
      "37\n",
      "36\n",
      "35\n",
      "34\n",
      "33\n",
      "32\n",
      "31\n",
      "30\n",
      "29\n",
      "28\n",
      "27\n",
      "26\n",
      "25\n",
      "24\n",
      "23\n",
      "22\n",
      "21\n",
      "20\n",
      "19\n",
      "18\n",
      "17\n",
      "16\n",
      "15\n",
      "14\n",
      "13\n",
      "12\n",
      "11\n",
      "10\n",
      "9\n",
      "8\n",
      "7\n",
      "6\n",
      "5\n",
      "4\n",
      "3\n",
      "2\n",
      "1\n"
     ]
    }
   ],
   "source": [
    "solved = []\n",
    "np_boards = np_X[:1].copy()\n",
    "for board in np_boards:\n",
    "    np_board = board.copy()\n",
    "    blanks_count = 81 - np.count_nonzero(np_board)\n",
    "\n",
    "    np_board_1d = np_board.reshape(81)\n",
    "    np_board_4d = np.expand_dims(to_categorical(np_board), axis=0)\n",
    "    \n",
    "    for _ in range(blanks_count):\n",
    "        predictions = np.array(model.predict(np_board_4d)).reshape(81,9)\n",
    "        propabilities = predictions.max(1)\n",
    "\n",
    "        values = predictions.argmax(1)\n",
    "        values = values + 1         #change range of digits from <0,8> to <1,9>\n",
    "\n",
    "        #get position of highest propability\n",
    "        zeros = (np_board_1d == 0)\n",
    "        blanks_indices = np.where(zeros)[0]\n",
    "        print(len(blanks_indices))\n",
    "        position_to_fill = blanks_indices[propabilities[zeros].argmax()]\n",
    "        value_to_fill = values[position_to_fill]\n",
    "\n",
    "        np_board_1d[position_to_fill] = value_to_fill\n",
    "        np_board = np_board_1d.reshape(9,9,1)\n",
    "        np_board_4d = np.expand_dims(to_categorical(np_board), axis=0)\n",
    "\n",
    "       \n",
    "    #np_board = np_board_1d.reshape(9,9,1)\n",
    "    solved.append(np_board.copy())\n",
    "    \n",
    "    \n",
    "    "
   ]
  },
  {
   "cell_type": "code",
   "execution_count": 85,
   "metadata": {},
   "outputs": [
    {
     "data": {
      "text/plain": [
       "array([[[8],\n",
       "        [4],\n",
       "        [4],\n",
       "        [3],\n",
       "        [7],\n",
       "        [1],\n",
       "        [2],\n",
       "        [6],\n",
       "        [9]],\n",
       "\n",
       "       [[6],\n",
       "        [6],\n",
       "        [5],\n",
       "        [7],\n",
       "        [4],\n",
       "        [9],\n",
       "        [8],\n",
       "        [1],\n",
       "        [1]],\n",
       "\n",
       "       [[9],\n",
       "        [7],\n",
       "        [2],\n",
       "        [6],\n",
       "        [6],\n",
       "        [5],\n",
       "        [5],\n",
       "        [4],\n",
       "        [3]],\n",
       "\n",
       "       [[5],\n",
       "        [3],\n",
       "        [6],\n",
       "        [4],\n",
       "        [4],\n",
       "        [2],\n",
       "        [9],\n",
       "        [8],\n",
       "        [7]],\n",
       "\n",
       "       [[1],\n",
       "        [9],\n",
       "        [8],\n",
       "        [3],\n",
       "        [6],\n",
       "        [7],\n",
       "        [4],\n",
       "        [2],\n",
       "        [1]],\n",
       "\n",
       "       [[4],\n",
       "        [5],\n",
       "        [7],\n",
       "        [1],\n",
       "        [8],\n",
       "        [3],\n",
       "        [9],\n",
       "        [5],\n",
       "        [6]],\n",
       "\n",
       "       [[6],\n",
       "        [8],\n",
       "        [9],\n",
       "        [2],\n",
       "        [3],\n",
       "        [4],\n",
       "        [1],\n",
       "        [1],\n",
       "        [5]],\n",
       "\n",
       "       [[1],\n",
       "        [2],\n",
       "        [3],\n",
       "        [5],\n",
       "        [1],\n",
       "        [8],\n",
       "        [6],\n",
       "        [9],\n",
       "        [8]],\n",
       "\n",
       "       [[4],\n",
       "        [4],\n",
       "        [2],\n",
       "        [9],\n",
       "        [1],\n",
       "        [6],\n",
       "        [3],\n",
       "        [1],\n",
       "        [5]]])"
      ]
     },
     "execution_count": 85,
     "metadata": {},
     "output_type": "execute_result"
    }
   ],
   "source": [
    "solved[0]"
   ]
  },
  {
   "cell_type": "code",
   "execution_count": 45,
   "metadata": {},
   "outputs": [
    {
     "data": {
      "text/plain": [
       "array([0, 0, 4, 3, 0, 0, 2, 0, 9, 0, 0, 5, 0, 0, 9, 0, 0, 1, 0, 7, 0, 0,\n",
       "       6, 0, 0, 4, 3, 0, 0, 6, 0, 0, 2, 0, 8, 7, 1, 9, 0, 0, 0, 7, 4, 0,\n",
       "       0, 0, 5, 0, 0, 8, 3, 0, 0, 0, 6, 0, 0, 0, 0, 0, 1, 0, 5, 0, 0, 3,\n",
       "       5, 0, 8, 6, 9, 0, 0, 4, 2, 9, 1, 0, 3, 0, 0])"
      ]
     },
     "execution_count": 45,
     "metadata": {},
     "output_type": "execute_result"
    }
   ],
   "source": [
    "np_board_1d"
   ]
  },
  {
   "cell_type": "code",
   "execution_count": 109,
   "metadata": {},
   "outputs": [
    {
     "name": "stdout",
     "output_type": "stream",
     "text": [
      "<class 'numpy.ndarray'>\n",
      "<class 'numpy.ndarray'>\n",
      "<class 'numpy.ndarray'>\n",
      "<class 'numpy.ndarray'>\n",
      "<class 'numpy.ndarray'>\n",
      "<class 'numpy.ndarray'>\n",
      "<class 'numpy.ndarray'>\n",
      "<class 'numpy.ndarray'>\n",
      "<class 'numpy.ndarray'>\n",
      "<class 'numpy.ndarray'>\n"
     ]
    }
   ],
   "source": [
    "for np_board in X_test[:10]:\n",
    "    print(type(np_board))"
   ]
  },
  {
   "cell_type": "code",
   "execution_count": null,
   "metadata": {},
   "outputs": [],
   "source": []
  }
 ],
 "metadata": {
  "kernelspec": {
   "display_name": "TF_gpu",
   "language": "python",
   "name": "tf_gpu"
  },
  "language_info": {
   "codemirror_mode": {
    "name": "ipython",
    "version": 3
   },
   "file_extension": ".py",
   "mimetype": "text/x-python",
   "name": "python",
   "nbconvert_exporter": "python",
   "pygments_lexer": "ipython3",
   "version": "3.7.7"
  }
 },
 "nbformat": 4,
 "nbformat_minor": 4
}
